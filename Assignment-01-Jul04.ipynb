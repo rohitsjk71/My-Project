{
 "cells": [
  {
   "cell_type": "markdown",
   "metadata": {},
   "source": [
    "### Coding Scenario: Personal Profile and Preferences\n",
    "\n",
    "**Objective:** You are tasked with creating a Python script to represent and process personal profile information and preferences. This scenario will test your knowledge of strings, integers, lists, tuples, dictionaries, and boolean data types in Python.\n",
    "\n",
    "#### Scenario Description:\n",
    "\n",
    "Imagine you are designing a simple profile for a social media application. Each user profile contains basic personal information, a list of favorite hobbies, preferred screen dimensions for viewing the app, and a brief description of their pet.\n"
   ]
  },
  {
   "cell_type": "markdown",
   "metadata": {},
   "source": [
    "#### Task Instructions:\n",
    "\n",
    "1. **Personal Information**\n",
    "   - Create a variable `name` (str) to store the user's name.\n",
    "   - Create a variable `age` (int) to store the user's age.\n",
    "   - Print a greeting message using these variables, e.g., `\"Hello, my name is Alice and I am 30 years old.\"`\n"
   ]
  },
  {
   "cell_type": "code",
   "execution_count": null,
   "metadata": {},
   "outputs": [],
   "source": [
    "name = \"Rohit Kshetri\"\n",
    "age = 18\n",
    "print(f\"Hello, my name is {name} and I am {age} years old.\")"
   ]
  },
  {
   "cell_type": "markdown",
   "metadata": {},
   "source": [
    "2. **Favorite Hobbies**\n",
    "   - Create a list `favorite_hobbies` containing at least three hobbies as strings.\n",
    "   - Add another hobby to this list and print the updated list."
   ]
  },
  {
   "cell_type": "code",
   "execution_count": null,
   "metadata": {},
   "outputs": [],
   "source": [
    "favorite_hobbies = [\"Painting\", \"Writing Poems\", \"Playing Golf\", \"Gardening\"]\n",
    "favorite_hobbies.append(\"Photography\")\n",
    "\n",
    "print(\"My favorite hobbies are:\")\n",
    "for hobby in favorite_hobbies:\n",
    "    print(f\"{hobby}\")\n"
   ]
  },
  {
   "cell_type": "markdown",
   "metadata": {},
   "source": [
    "3. **Screen Dimensions**\n",
    "   - Define a tuple `screen_dimensions` with two integers representing the width and height of the user's preferred screen size for the app.\n",
    "   - Attempt to modify one of the values in the tuple to simulate an attempt to change screen preferences and comment on the outcome."
   ]
  },
  {
   "cell_type": "code",
   "execution_count": null,
   "metadata": {},
   "outputs": [],
   "source": [
    "\n",
    "width = 1920\n",
    "height = 1080\n",
    "screen_dimensions = (width, height)\n",
    "\n",
    "print(f\"Original screen dimensions: Width = {screen_dimensions[0]}, Height = {screen_dimensions[1]}\")\n",
    "\n",
    "# To update screen dimensions, we create a new tuple\n",
    "new_width = 1280\n",
    "new_height = 720\n",
    "screen_dimensions = (new_width, new_height)\n",
    "\n",
    "print(f\"Updated screen dimensions: Width = {screen_dimensions[0]}, Height = {screen_dimensions[1]}\")\n",
    "\n",
    "# Co-Written with ChatGPT. I didn't understand the question pretty much."
   ]
  },
  {
   "cell_type": "markdown",
   "metadata": {},
   "source": [
    "4. **Pet Description**\n",
    "   - Create a dictionary `pet` to describe the user's pet. It should include keys for `type`, `name`, `age`, and later, `color`.\n",
    "   - Add a `color` key to the `pet` dictionary with an appropriate value and print the pet's name and color."
   ]
  },
  {
   "cell_type": "code",
   "execution_count": null,
   "metadata": {},
   "outputs": [],
   "source": [
    "dogs = {\n",
    "    \"Larry\": {\n",
    "        \"type\": \"Dog\",\n",
    "        \"age\": 3,\n",
    "        \"color\": \"Brown\"\n",
    "    },\n",
    "    \"Sisimanu\": {\n",
    "        \"type\": \"Dog\",\n",
    "        \"age\": 6,\n",
    "        \"color\": \"Yellow\"\n",
    "    },\n",
    "    \"Rukia\": {\n",
    "        \"type\": \"Dog\",\n",
    "        \"age\": 6,\n",
    "        \"color\": \"Black\"\n",
    "    }\n",
    "}\n",
    "\n",
    "for name, info in dogs.items():\n",
    "    print(f\"My dog's name is {name}, and its color is {info['color']}.\")\n"
   ]
  },
  {
   "cell_type": "markdown",
   "metadata": {},
   "source": [
    "5. **Adult Status**\n",
    "   - Determine if the user is an adult with a boolean variable `is_adult`. Consider someone an adult if they are 18 years old or more.\n",
    "   - Using conditional logic, print `\"I am an adult.\"` if true, and `\"I am not an adult.\"` if false.\n"
   ]
  },
  {
   "cell_type": "code",
   "execution_count": null,
   "metadata": {},
   "outputs": [],
   "source": [
    "age = 30\n",
    "is_adult = age >= 18  \n",
    "\n",
    "if is_adult:\n",
    "    print(\"I am an adult.\")\n",
    "else:\n",
    "    print(\"I am not an adult.\")\n",
    "\n"
   ]
  },
  {
   "cell_type": "markdown",
   "metadata": {},
   "source": [
    "---"
   ]
  },
  {
   "cell_type": "markdown",
   "metadata": {},
   "source": [
    "### Question: File Read and Write\n",
    "**Write a Program that Uses Functions `write_to_file` and `read_from_file`**:\n",
    "- `write_to_file(filename, content)`: Writes `content` to a file named `filename`. If the file doesn't exist, it should be created.\n",
    "- `read_from_file(filename)`: Reads and prints the content of a file named `filename`.\n",
    "Call `write_to_file` to write \"Hello, Python!\" to a file named \"greetings.txt\", then call `read_from_file` to read and print the content of this file."
   ]
  },
  {
   "cell_type": "code",
   "execution_count": null,
   "metadata": {},
   "outputs": [],
   "source": [
    "# Didnt understand the question again."
   ]
  },
  {
   "cell_type": "markdown",
   "metadata": {},
   "source": [
    "---"
   ]
  },
  {
   "cell_type": "markdown",
   "metadata": {},
   "source": [
    "### Question : Book Keeper\n",
    "\n",
    "Following the data below , complete the given Tasks :"
   ]
  },
  {
   "cell_type": "code",
   "execution_count": null,
   "metadata": {},
   "outputs": [],
   "source": [
    "# A list of tuples, where each tuple contains information about a book: (title, genre, year_published, times_borrowed).\n",
    "\n",
    "books = [\n",
    "    (\"The Alchemist\", \"Fiction\", 1988, 250),\n",
    "    (\"The Da Vinci Code\", \"Mystery\", 2003, 300),\n",
    "    (\"A Brief History of Time\", \"Science\", 1988, 150),\n",
    "    (\"The Theory of Everything\", \"Science\", 2002, 100),\n",
    "    (\"Pride and Prejudice\", \"Fiction\", 1813, 200),\n",
    "    (\"To Kill a Mockingbird\", \"Fiction\", 1960, 180),\n",
    "    (\"The Catcher in the Rye\", \"Fiction\", 1991, 220),\n",
    "    (\"Angels & Demons\", \"Mystery\", 2000, 210),\n",
    "    (\"The Grand Design\", \"Science\", 2010, 90),\n",
    "    (\"1984\", \"Fiction\", 1949, 190)\n",
    "]"
   ]
  },
  {
   "cell_type": "markdown",
   "metadata": {},
   "source": [
    "**Task 01**: Create a Book Filtering Function\n",
    "\n",
    "Given the list books as shown below, write a Python function named `filter_books` that filters books based on *genre* and *publication year*. The function should take two parameters: `genre (a string)` and `year (an integer)`. It should return a list of book titles that match the given genre and have been **published on or after** the specified year.\n",
    "\n",
    "- Example usage : `print(filter_books(\"Fiction\", 1980))`\n",
    "- Expected output: `['The Alchemist', 'The Catcher in the Rye']`\n",
    "\n",
    "*Try to use List Comprehension with If condition*"
   ]
  },
  {
   "cell_type": "code",
   "execution_count": null,
   "metadata": {},
   "outputs": [
    {
     "data": {
      "text/plain": [
       "['The Alchemist', 'The Catcher in the Rye']"
      ]
     },
     "execution_count": 6,
     "metadata": {},
     "output_type": "execute_result"
    }
   ],
   "source": [
    "def filter_books(genre, year):\n",
    "    return [title for title, g, y, _ in books if g == genre and y >= year]\n",
    "\n",
    "print(filter_books(\"Fiction\", 1980))\n"
   ]
  },
  {
   "cell_type": "markdown",
   "metadata": {},
   "source": [
    "**Task 02** : Write a Python program that uses a lambda expression to sort this list by publication year in ascending order. Print the sorted list of books.\n",
    "\n",
    "*Try using a lambda expression with the sorted() function*"
   ]
  },
  {
   "cell_type": "code",
   "execution_count": null,
   "metadata": {},
   "outputs": [],
   "source": [
    "\n"
   ]
  },
  {
   "cell_type": "code",
   "execution_count": null,
   "metadata": {},
   "outputs": [],
   "source": []
  }
 ],
 "metadata": {
  "kernelspec": {
   "display_name": "Python 3 (ipykernel)",
   "language": "python",
   "name": "python3"
  },
  "language_info": {
   "codemirror_mode": {
    "name": "ipython",
    "version": 3
   },
   "file_extension": ".py",
   "mimetype": "text/x-python",
   "name": "python",
   "nbconvert_exporter": "python",
   "pygments_lexer": "ipython3",
   "version": "3.10.12"
  }
 },
 "nbformat": 4,
 "nbformat_minor": 4
}
