{
 "cells": [
  {
   "cell_type": "markdown",
   "id": "200114dd-0f0f-4d0d-87e0-7f0d0cd6761f",
   "metadata": {},
   "source": [
    "# Modules"
   ]
  },
  {
   "cell_type": "markdown",
   "id": "2fdd636a-b0c6-4832-8945-ca4779cfd2e2",
   "metadata": {},
   "source": [
    "There are two types of modules.\n",
    "1. Built-In Modules\n",
    "2. External Modules"
   ]
  },
  {
   "cell_type": "code",
   "execution_count": null,
   "id": "d6bfdae4-3616-42e1-81ed-40e1f0851031",
   "metadata": {},
   "outputs": [],
   "source": []
  }
 ],
 "metadata": {
  "kernelspec": {
   "display_name": "Python 3 (ipykernel)",
   "language": "python",
   "name": "python3"
  },
  "language_info": {
   "codemirror_mode": {
    "name": "ipython",
    "version": 3
   },
   "file_extension": ".py",
   "mimetype": "text/x-python",
   "name": "python",
   "nbconvert_exporter": "python",
   "pygments_lexer": "ipython3",
   "version": "3.13.5"
  }
 },
 "nbformat": 4,
 "nbformat_minor": 5
}
